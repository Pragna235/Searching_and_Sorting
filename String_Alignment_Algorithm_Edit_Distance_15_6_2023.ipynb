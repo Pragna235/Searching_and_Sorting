{
  "nbformat": 4,
  "nbformat_minor": 0,
  "metadata": {
    "colab": {
      "provenance": [],
      "authorship_tag": "ABX9TyOn5AluI26SEZinycNeYD5k",
      "include_colab_link": true
    },
    "kernelspec": {
      "name": "python3",
      "display_name": "Python 3"
    },
    "language_info": {
      "name": "python"
    }
  },
  "cells": [
    {
      "cell_type": "markdown",
      "metadata": {
        "id": "view-in-github",
        "colab_type": "text"
      },
      "source": [
        "<a href=\"https://colab.research.google.com/github/Pragna235/Searching_and_Sorting/blob/main/String_Alignment_Algorithm_Edit_Distance_15_6_2023.ipynb\" target=\"_parent\"><img src=\"https://colab.research.google.com/assets/colab-badge.svg\" alt=\"Open In Colab\"/></a>"
      ]
    },
    {
      "cell_type": "code",
      "execution_count": 10,
      "metadata": {
        "id": "cWR4tx8_rGEi",
        "colab": {
          "base_uri": "https://localhost:8080/"
        },
        "outputId": "b79bcd15-11e4-466b-c3d6-d4953750b710"
      },
      "outputs": [
        {
          "output_type": "stream",
          "name": "stdout",
          "text": [
            "\n",
            "\n",
            "1 2 3 4 4 5 6 \n",
            "\n",
            "1 2 3 4 5 4 5 \n",
            "\n",
            "2 1 2 3 4 5 4 \n",
            "\n",
            "3 2 1 2 3 4 5 \n",
            "\n",
            "4 3 2 1 2 3 4 \n",
            "\n",
            "5 4 3 2 2 3 3 \n",
            "\n",
            "6 5 4 3 3 2 3 "
          ]
        }
      ],
      "source": [
        "#Driver Code\n",
        "fname=\"/content/stringSimilarityInput.txt\"\n",
        "with open(fname) as reader:\n",
        "    S1=reader.readline()\n",
        "    S2=reader.readline()\n",
        "\n",
        "m=len(S1)\n",
        "n=len(S2)\n",
        "D=[[0 for i in range(n+1)] for j in range(m+1)] #2-Dimensional Table of size m*n\n",
        "\n",
        "#Initialize values for row zero and column zero here.\n",
        "for i in range(m+1):\n",
        "  D[i][0] = i\n",
        "for j in range(n+1):\n",
        "  D[0][j] = j\n",
        "\n",
        "row=0\n",
        "col=0\n",
        "while((row<m) or (col<n)):\n",
        "    if (row<m):\n",
        "        row=row+1\n",
        "    if (col<n):\n",
        "        col=col+1\n",
        "    for j in range(row,n+1):\n",
        "        if (S1[row-1]==S2[j-1]): #if the alphabets match\n",
        "            #Compute D[row][j].\n",
        "            D[row][j] = D[row-1][j-1] #assign the left upper diagnol value to the D[row][j]\n",
        "        else:\n",
        "            #Compute D[row][j]. #if there is a mismatch\n",
        "            D[row][j] = min(D[row-1][j] , D[row][j-1] , D[row-1][j-1]) + 1 #find the minimum of all three left upper neighbors and add 1 to it\n",
        "    for i in range(col+1,m+1):\n",
        "        if (S1[i-1]==S2[col-1]):#if the alphabets match\n",
        "            #Compute D[i][col].\n",
        "            D[i][col] = D[i-1][col-1]#assign the left upper diagnol value to the D[row][j]\n",
        "        else:#if there is a mismatch\n",
        "            #Compute D[i][col].\n",
        "            D[i][col] = min(D[i-1][col] , D[i][col-1] , D[i-1][col-1]) + 1 #find the minimum of all three left upper neighbors and add 1 to it\n",
        "\n",
        "for i in range(1,m):\n",
        "    print('\\n')\n",
        "    for j in range(1,n+1):\n",
        "        print(D[i][j],end=' ')\n",
        ""
      ]
    }
  ]
}