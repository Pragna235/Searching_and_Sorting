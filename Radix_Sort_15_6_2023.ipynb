{
  "nbformat": 4,
  "nbformat_minor": 0,
  "metadata": {
    "colab": {
      "provenance": [],
      "authorship_tag": "ABX9TyMYDLyzEvU1qAh7nNphx8iZ",
      "include_colab_link": true
    },
    "kernelspec": {
      "name": "python3",
      "display_name": "Python 3"
    },
    "language_info": {
      "name": "python"
    }
  },
  "cells": [
    {
      "cell_type": "markdown",
      "metadata": {
        "id": "view-in-github",
        "colab_type": "text"
      },
      "source": [
        "<a href=\"https://colab.research.google.com/github/Pragna235/Searching_and_Sorting/blob/main/Radix_Sort_15_6_2023.ipynb\" target=\"_parent\"><img src=\"https://colab.research.google.com/assets/colab-badge.svg\" alt=\"Open In Colab\"/></a>"
      ]
    },
    {
      "cell_type": "code",
      "execution_count": 20,
      "metadata": {
        "id": "F06z1AMtbsXr",
        "colab": {
          "base_uri": "https://localhost:8080/"
        },
        "outputId": "ea5dd746-393f-4529-b077-54e12cebc4dc"
      },
      "outputs": [
        {
          "output_type": "stream",
          "name": "stdout",
          "text": [
            "Table A =  ['AAGC']\n",
            "Table C =  ['ACTAG']\n",
            "Table G =  ['AGAG']\n",
            "Table T =  []\n",
            "Table None =  []\n",
            "\n",
            "Table A =  ['AAGC', 'AGAG', 'ACTAG']\n",
            "Table A =  ['CACAGA']\n",
            "Table A =  []\n",
            "Table C =  []\n",
            "Table A =  ['CCGA']\n",
            "Table C =  []\n",
            "Table G =  []\n",
            "Table T =  []\n",
            "Table None =  ['CCG']\n",
            "\n",
            "Table G =  ['CCGA', 'CCG']\n",
            "Table T =  []\n",
            "Table None =  []\n",
            "\n",
            "Table C =  ['CCGA', 'CCG']\n",
            "Table G =  []\n",
            "Table T =  []\n",
            "Table None =  []\n",
            "\n",
            "Table C =  ['CCGA', 'CACAGA', 'CCG']\n",
            "Table A =  []\n",
            "Table C =  []\n",
            "Table G =  ['GGAT']\n",
            "Table T =  ['GTATG']\n",
            "Table None =  []\n",
            "\n",
            "Table G =  ['GTATG', 'GGAT']\n",
            "Table A =  []\n",
            "Table C =  ['TCCG']\n",
            "Table G =  ['TGGTT']\n",
            "Table T =  ['TT']\n",
            "Table None =  ['T']\n",
            "\n",
            "Table T =  ['TT', 'T', 'TCCG', 'TGGTT']\n",
            "Table None =  []\n",
            "\n",
            "Resulting Order using Radix Sort is : \n",
            "\n",
            "AAGC\n",
            "ACTAG\n",
            "AGAG\n",
            "CACAGA\n",
            "CCGA\n",
            "CCG\n",
            "GGAT\n",
            "GTATG\n",
            "TCCG\n",
            "TGGTT\n",
            "TT\n",
            "T\n"
          ]
        }
      ],
      "source": [
        "#Returns strings sorted by positions from pos to maxPos\n",
        "def sortByPosition(strings,pos,maxPos):\n",
        "    if ((pos>maxPos) or (len(strings)<=1)):\n",
        "        return strings\n",
        "    tableA=[]\n",
        "    tableC=[]\n",
        "    tableG=[]\n",
        "    tableT=[]\n",
        "    tableNone=[]\n",
        "    sortedStrings=[]\n",
        "\n",
        "    for i in range(0,len(strings)):\n",
        "        if (pos>=len(strings[i])):\n",
        "            tableNone.append(strings[i])\n",
        "        elif (strings[i][pos]=='A'):\n",
        "            tableA.append(strings[i])\n",
        "        elif (strings[i][pos]=='C'):\n",
        "            tableC.append(strings[i])\n",
        "        elif (strings[i][pos]=='G'):\n",
        "            tableG.append(strings[i])\n",
        "        else:\n",
        "            tableT.append(strings[i])\n",
        "\n",
        "    #Make all recursive calls here\n",
        "\n",
        "    sortedStrings.extend(sortByPosition(tableA, pos + 1, maxPos))\n",
        "    print(\"Table A = \",tableA)\n",
        "    sortedStrings.extend(sortByPosition(tableC, pos + 1, maxPos))\n",
        "    print(\"Table C = \",tableC)\n",
        "    sortedStrings.extend(sortByPosition(tableG, pos + 1, maxPos))\n",
        "    print(\"Table G = \",tableG)\n",
        "    sortedStrings.extend(sortByPosition(tableT, pos + 1, maxPos))\n",
        "    print(\"Table T = \",tableT)\n",
        "    sortedStrings.extend(sortByPosition(tableNone, pos + 1, maxPos))\n",
        "    print(\"Table None = \",tableNone)\n",
        "    print()\n",
        "\n",
        "    #Concatenate the sorted tables into the sortedStrings array.\n",
        "    return sortedStrings\n",
        "\n",
        "#Read the input file and generate output\n",
        "fname=\"/content/inputStrings.txt\"\n",
        "with open(fname) as reader:\n",
        "    lines = reader.readlines()\n",
        "    strings = [x.strip() for x in lines]\n",
        "\n",
        "\n",
        "m=0\n",
        "for string in strings:\n",
        "    m=max(m,len(string)) #we have to find the length of the longest string for the number of iterations\n",
        "\n",
        "strings=sortByPosition(strings,0,m-1) #initial call\n",
        "\n",
        "print('Resulting Order using Radix Sort is : \\n')\n",
        "for string in strings:\n",
        "    print(string)"
      ]
    }
  ]
}